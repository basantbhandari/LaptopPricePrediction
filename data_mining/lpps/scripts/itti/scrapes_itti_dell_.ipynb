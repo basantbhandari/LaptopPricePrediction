{
  "nbformat": 4,
  "nbformat_minor": 5,
  "metadata": {
    "kernelspec": {
      "display_name": "Python 3",
      "language": "python",
      "name": "python3"
    },
    "language_info": {
      "codemirror_mode": {
        "name": "ipython",
        "version": 3
      },
      "file_extension": ".py",
      "mimetype": "text/x-python",
      "name": "python",
      "nbconvert_exporter": "python",
      "pygments_lexer": "ipython3",
      "version": "3.6.13"
    },
    "colab": {
      "name": "scrapes_itti_dell.ipynb",
      "provenance": [],
      "collapsed_sections": []
    }
  },
  "cells": [
    {
      "cell_type": "code",
      "metadata": {
        "colab": {
          "base_uri": "https://localhost:8080/"
        },
        "id": "trying-volume",
        "outputId": "a4ae4155-34cb-4e96-a521-1faf7ea736b0"
      },
      "source": [
        "pip install requests\n"
      ],
      "id": "trying-volume",
      "execution_count": null,
      "outputs": [
        {
          "output_type": "stream",
          "text": [
            "Requirement already satisfied: requests in /usr/local/lib/python3.7/dist-packages (2.23.0)\n",
            "Requirement already satisfied: certifi>=2017.4.17 in /usr/local/lib/python3.7/dist-packages (from requests) (2020.12.5)\n",
            "Requirement already satisfied: idna<3,>=2.5 in /usr/local/lib/python3.7/dist-packages (from requests) (2.10)\n",
            "Requirement already satisfied: urllib3!=1.25.0,!=1.25.1,<1.26,>=1.21.1 in /usr/local/lib/python3.7/dist-packages (from requests) (1.24.3)\n",
            "Requirement already satisfied: chardet<4,>=3.0.2 in /usr/local/lib/python3.7/dist-packages (from requests) (3.0.4)\n"
          ],
          "name": "stdout"
        }
      ]
    },
    {
      "cell_type": "code",
      "metadata": {
        "colab": {
          "base_uri": "https://localhost:8080/"
        },
        "id": "stupid-italy",
        "outputId": "f74c81d0-41d0-4309-f64d-e393f49cea0e"
      },
      "source": [
        "pip install bs4"
      ],
      "id": "stupid-italy",
      "execution_count": null,
      "outputs": [
        {
          "output_type": "stream",
          "text": [
            "Requirement already satisfied: bs4 in /usr/local/lib/python3.7/dist-packages (0.0.1)\n",
            "Requirement already satisfied: beautifulsoup4 in /usr/local/lib/python3.7/dist-packages (from bs4) (4.6.3)\n"
          ],
          "name": "stdout"
        }
      ]
    },
    {
      "cell_type": "code",
      "metadata": {
        "id": "unauthorized-tutorial"
      },
      "source": [
        "import requests\n",
        "from bs4 import BeautifulSoup"
      ],
      "id": "unauthorized-tutorial",
      "execution_count": 2,
      "outputs": []
    },
    {
      "cell_type": "code",
      "metadata": {
        "colab": {
          "base_uri": "https://localhost:8080/"
        },
        "id": "analyzed-yugoslavia",
        "outputId": "b7f3cead-c328-4756-fd70-abbd9661c4d7"
      },
      "source": [
        "\n",
        "laptop_name=[]\n",
        "laptop_price=[]\n",
        "page_num=input(\"Enter number of pages:\")\n",
        "for i in range(1,int(page_num)+1):\n",
        "    url=\"https://itti.com.np/laptops-by-brands/dell?p=\"+str(i)\n",
        "    req=requests.get(url)\n",
        "    content=BeautifulSoup(req.content,'html.parser')\n",
        "    name=content.find_all('h2',{\"class\":\"product name product-item-name product-name\"})\n",
        "    price=content.find_all('span',{\"class\":\"price\"})\n",
        "    print(\"Laptops in page\" + str(i))\n",
        "   \n",
        "    print(len(name))\n",
        "    print(len(price))\n",
        "    \n",
        "    for i in name:\n",
        "        laptop_name.append(i.text)\n",
        "    for i in price:\n",
        "        laptop_price.append(i.text)"
      ],
      "id": "analyzed-yugoslavia",
      "execution_count": 3,
      "outputs": [
        {
          "output_type": "stream",
          "text": [
            "Enter number of pages:3\n",
            "Laptops in page1\n",
            "12\n",
            "12\n",
            "Laptops in page2\n",
            "12\n",
            "12\n",
            "Laptops in page3\n",
            "8\n",
            "8\n"
          ],
          "name": "stdout"
        }
      ]
    },
    {
      "cell_type": "code",
      "metadata": {
        "colab": {
          "base_uri": "https://localhost:8080/"
        },
        "id": "atlantic-petite",
        "outputId": "7ee9e21f-08da-499a-c105-ecacd97a74a3"
      },
      "source": [
        "for i in laptop_name:\n",
        "    print(i)"
      ],
      "id": "atlantic-petite",
      "execution_count": 4,
      "outputs": [
        {
          "output_type": "stream",
          "text": [
            "\n",
            "\n",
            "                                            Dell Vostro 3501 i3 10th Gen / 4GB RAM / 1TB HDD / 15.6\" HD Display                                        \n",
            "\n",
            "\n",
            "\n",
            "                                            Dell Vostro 3401 i3 10th Gen / 4GB RAM / 1TB HDD / 14\" HD Display                                        \n",
            "\n",
            "\n",
            "\n",
            "                                            Dell Vostro 3401 i3 10th Gen / 8GB RAM / 1TB HDD / 14\" HD Display                                        \n",
            "\n",
            "\n",
            "\n",
            "                                            Dell Latitude 3410 i3 10th Gen / 4GB RAM / 1TB HDD / 14\" HD Display                                        \n",
            "\n",
            "\n",
            "\n",
            "                                            Dell Vostro 3400 i5 11th Gen / 4GB RAM / 1TB HDD / 14\" FHD Display                                        \n",
            "\n",
            "\n",
            "\n",
            "                                            Dell Vostro 3500 i5 11th Gen / 4GB RAM / 1TB HDD / 15.6\" FHD Display                                        \n",
            "\n",
            "\n",
            "\n",
            "                                            Dell Inspirion 3501 i5 11th Gen / 8GB RAM / 256GB SSD / Nvidia MX330 2GB / 15.6\" FHD Display                                        \n",
            "\n",
            "\n",
            "\n",
            "                                            Dell Inspiron 5391 i5 10th Gen / 8GB RAM / 256GB SSD / 13.3'' FHD Display                                        \n",
            "\n",
            "\n",
            "\n",
            "                                            Dell G3 G3590 i5 9th Gen / GTX 1650 / 8GB RAM / 512GB SSD / 15.6\" FHD Display                                        \n",
            "\n",
            "\n",
            "\n",
            "                                            Dell Vostro 3500 i7 11th Gen / 8GB RAM / 512GB SSD / Nvidia MX330 / 15.6\" FHD Display                                        \n",
            "\n",
            "\n",
            "\n",
            "                                            Dell Inspiron 7490 i5 10th Gen / 8GB RAM / 256GB SSD / 14'' FHD Touch Display                                        \n",
            "\n",
            "\n",
            "\n",
            "                                            Dell Inspiron 7391 i5 10th Gen / 8GB RAM / 256GB SSD / 13.3'' FHD Display                                        \n",
            "\n",
            "\n",
            "\n",
            "                                            Dell Inspiron 7300 2-in-1  i5 10th Gen / 8GB RAM / 512GB SSD / 13.3'' FHD 360-degree Touch Screen Display                                        \n",
            "\n",
            "\n",
            "\n",
            "                                            Dell Inspiron 7490  i7 10th Gen / 8 GB RAM / 512GB SSD / 14\" FHD Display                                        \n",
            "\n",
            "\n",
            "\n",
            "                                            Dell Inspiron 5400 2-in-1 i7 10th Gen / 8GB RAM / 512GB SSD / 14\" FHD x360 Touch Display                                        \n",
            "\n",
            "\n",
            "\n",
            "                                            Dell G3 G3500 i5 10th Gen / NVIDIA GTX 1650TI / 8GB RAM / 512GB SSD / 15.6\" 120Hz FHD Display                                        \n",
            "\n",
            "\n",
            "\n",
            "                                            Dell Inspiron 7490 i5 10th Gen / NVIDIA MX250 / 8GB RAM / 512GB SSD / 14'' FHD Display                                        \n",
            "\n",
            "\n",
            "\n",
            "                                            Dell G3 G3500 i5 10th Gen / NVIDIA GTX 1660TI / 16GB RAM / 512GB SSD / 15.6\" FHD Display                                        \n",
            "\n",
            "\n",
            "\n",
            "                                            Dell Inspiron 7405 2-in-1 Ryzen 7 4700U / 16GB RAM / 512GB SSD / 14'' FHD 360-degree Touch Screen Display                                        \n",
            "\n",
            "\n",
            "\n",
            "                                            Dell XPS 13 7390  i5 10 GEN/ 8GB RAM/ 256GB SSD/ 13.3'' FHD DISPLAY                                        \n",
            "\n",
            "\n",
            "\n",
            "                                            Dell Inspiron 7391 i7 10th Gen / NVIDIA MX250 / 8GB RAM / 512GB SSD / 13.3'' FHD Display                                        \n",
            "\n",
            "\n",
            "\n",
            "                                            Dell Inspiron 7591 i7 9th Gen / GTX 1650 Graphics Card / 16GB RAM / 512GB SSD / 15.6\" FHD Display                                        \n",
            "\n",
            "\n",
            "\n",
            "                                            Dell G3 G3590 i7 9th Gen / NVIDIA GTX 1660Ti / 16GB RAM / 256GB SSD / 1TB HDD / 15.6\" FHD Display                                        \n",
            "\n",
            "\n",
            "\n",
            "                                            Dell Inspiron 7490  i7 10th Gen / NVIDIA MX250 Graphics / 16GB RAM / 512GB SSD / 14\" FHD Display                                        \n",
            "\n",
            "\n",
            "\n",
            "                                            Dell G5 15 SE 2020 Gaming Laptop Ryzen 7 4800H / AMD RX 5600M 6144MB / 8GB RAM / 512GB SSD / 15.6\" FHD 144Hz Display                                        \n",
            "\n",
            "\n",
            "\n",
            "                                            Dell Inspiron 7391 2-in-1  i7 10th Gen / 16GB RAM / 512GB SSD / 13.3'' 4K 360-degree Touch Screen Display                                        \n",
            "\n",
            "\n",
            "\n",
            "                                            Dell Vostro 7500 i7 10th Gen / GTX 1650ti Graphics Card / 16GB RAM / 1TB SSD / 15.6\" FHD Display / 97Whr Battery                                        \n",
            "\n",
            "\n",
            "\n",
            "                                            Dell XPS 13 7390 i7 10th Gen / 16GB RAM / 512GB SSD / 13.3'' FHD Display                                        \n",
            "\n",
            "\n",
            "\n",
            "                                            Dell XPS 15 7590 i7 9TH GEN/ 16GB RAM/ 256GB SSD/ GTX 1650/ 15.6\" FHD                                        \n",
            "\n",
            "\n",
            "\n",
            "                                            Dell XPS 13 7390 i7 10 GEN / 16GB RAM / 512GB SSD / 13.3'' 4K UHD Touch DISPLAY                                        \n",
            "\n",
            "\n",
            "\n",
            "                                            Dell XPS 13 7390 2-in-1  i7 10 Gen / 16GB RAM / 512GB SSD / 13.4'' 360-degree FHD TouchScreen Display                                        \n",
            "\n",
            "\n",
            "\n",
            "                                            Dell Alienware M15 R3 i7 10th Gen / RTX 2070 SUPER / 16GB RAM / 512GB SSD / 15.6\" FHD 300Hz Display                                        \n",
            "\n"
          ],
          "name": "stdout"
        }
      ]
    },
    {
      "cell_type": "code",
      "metadata": {
        "colab": {
          "base_uri": "https://localhost:8080/"
        },
        "id": "demonstrated-unknown",
        "outputId": "f4f19683-ba71-4b25-91d8-e1b33a65f0a3"
      },
      "source": [
        "for i in laptop_price:\n",
        "    print(i)"
      ],
      "id": "demonstrated-unknown",
      "execution_count": 5,
      "outputs": [
        {
          "output_type": "stream",
          "text": [
            "NPR59,000.00\n",
            "NPR59,000.00\n",
            "NPR62,000.00\n",
            "NPR65,500.00\n",
            "NPR79,000.00\n",
            "NPR79,000.00\n",
            "NPR94,000.00\n",
            "NPR103,000.00\n",
            "NPR108,000.00\n",
            "NPR112,000.00\n",
            "NPR118,000.00\n",
            "NPR118,000.00\n",
            "NPR119,000.00\n",
            "NPR120,000.00\n",
            "NPR121,000.00\n",
            "NPR125,000.00\n",
            "NPR125,000.00\n",
            "NPR135,000.00\n",
            "NPR135,000.00\n",
            "NPR140,000.00\n",
            "NPR148,000.00\n",
            "NPR155,000.00\n",
            "NPR156,000.00\n",
            "NPR156,000.00\n",
            "NPR158,000.00\n",
            "NPR160,000.00\n",
            "NPR175,000.00\n",
            "NPR185,000.00\n",
            "NPR195,000.00\n",
            "NPR200,000.00\n",
            "NPR200,000.00\n",
            "NPR310,000.00\n"
          ],
          "name": "stdout"
        }
      ]
    },
    {
      "cell_type": "code",
      "metadata": {
        "id": "h6yJsBpzUO5s"
      },
      "source": [
        "import sys"
      ],
      "id": "h6yJsBpzUO5s",
      "execution_count": null,
      "outputs": []
    },
    {
      "cell_type": "code",
      "metadata": {
        "colab": {
          "base_uri": "https://localhost:8080/"
        },
        "id": "celtic-generation",
        "outputId": "90349164-8977-48fe-8cd9-d5d9e24d9b77"
      },
      "source": [
        "for i in range(len(laptop_name)):\n",
        "    print(laptop_name[i] + '\\t ' + laptop_price[i])\n",
        "\n",
        "    \n",
        "    "
      ],
      "id": "celtic-generation",
      "execution_count": 6,
      "outputs": [
        {
          "output_type": "stream",
          "text": [
            "\n",
            "\n",
            "                                            Dell Vostro 3501 i3 10th Gen / 4GB RAM / 1TB HDD / 15.6\" HD Display                                        \n",
            "\t NPR59,000.00\n",
            "\n",
            "\n",
            "                                            Dell Vostro 3401 i3 10th Gen / 4GB RAM / 1TB HDD / 14\" HD Display                                        \n",
            "\t NPR59,000.00\n",
            "\n",
            "\n",
            "                                            Dell Vostro 3401 i3 10th Gen / 8GB RAM / 1TB HDD / 14\" HD Display                                        \n",
            "\t NPR62,000.00\n",
            "\n",
            "\n",
            "                                            Dell Latitude 3410 i3 10th Gen / 4GB RAM / 1TB HDD / 14\" HD Display                                        \n",
            "\t NPR65,500.00\n",
            "\n",
            "\n",
            "                                            Dell Vostro 3400 i5 11th Gen / 4GB RAM / 1TB HDD / 14\" FHD Display                                        \n",
            "\t NPR79,000.00\n",
            "\n",
            "\n",
            "                                            Dell Vostro 3500 i5 11th Gen / 4GB RAM / 1TB HDD / 15.6\" FHD Display                                        \n",
            "\t NPR79,000.00\n",
            "\n",
            "\n",
            "                                            Dell Inspirion 3501 i5 11th Gen / 8GB RAM / 256GB SSD / Nvidia MX330 2GB / 15.6\" FHD Display                                        \n",
            "\t NPR94,000.00\n",
            "\n",
            "\n",
            "                                            Dell Inspiron 5391 i5 10th Gen / 8GB RAM / 256GB SSD / 13.3'' FHD Display                                        \n",
            "\t NPR103,000.00\n",
            "\n",
            "\n",
            "                                            Dell G3 G3590 i5 9th Gen / GTX 1650 / 8GB RAM / 512GB SSD / 15.6\" FHD Display                                        \n",
            "\t NPR108,000.00\n",
            "\n",
            "\n",
            "                                            Dell Vostro 3500 i7 11th Gen / 8GB RAM / 512GB SSD / Nvidia MX330 / 15.6\" FHD Display                                        \n",
            "\t NPR112,000.00\n",
            "\n",
            "\n",
            "                                            Dell Inspiron 7490 i5 10th Gen / 8GB RAM / 256GB SSD / 14'' FHD Touch Display                                        \n",
            "\t NPR118,000.00\n",
            "\n",
            "\n",
            "                                            Dell Inspiron 7391 i5 10th Gen / 8GB RAM / 256GB SSD / 13.3'' FHD Display                                        \n",
            "\t NPR118,000.00\n",
            "\n",
            "\n",
            "                                            Dell Inspiron 7300 2-in-1  i5 10th Gen / 8GB RAM / 512GB SSD / 13.3'' FHD 360-degree Touch Screen Display                                        \n",
            "\t NPR119,000.00\n",
            "\n",
            "\n",
            "                                            Dell Inspiron 7490  i7 10th Gen / 8 GB RAM / 512GB SSD / 14\" FHD Display                                        \n",
            "\t NPR120,000.00\n",
            "\n",
            "\n",
            "                                            Dell Inspiron 5400 2-in-1 i7 10th Gen / 8GB RAM / 512GB SSD / 14\" FHD x360 Touch Display                                        \n",
            "\t NPR121,000.00\n",
            "\n",
            "\n",
            "                                            Dell G3 G3500 i5 10th Gen / NVIDIA GTX 1650TI / 8GB RAM / 512GB SSD / 15.6\" 120Hz FHD Display                                        \n",
            "\t NPR125,000.00\n",
            "\n",
            "\n",
            "                                            Dell Inspiron 7490 i5 10th Gen / NVIDIA MX250 / 8GB RAM / 512GB SSD / 14'' FHD Display                                        \n",
            "\t NPR125,000.00\n",
            "\n",
            "\n",
            "                                            Dell G3 G3500 i5 10th Gen / NVIDIA GTX 1660TI / 16GB RAM / 512GB SSD / 15.6\" FHD Display                                        \n",
            "\t NPR135,000.00\n",
            "\n",
            "\n",
            "                                            Dell Inspiron 7405 2-in-1 Ryzen 7 4700U / 16GB RAM / 512GB SSD / 14'' FHD 360-degree Touch Screen Display                                        \n",
            "\t NPR135,000.00\n",
            "\n",
            "\n",
            "                                            Dell XPS 13 7390  i5 10 GEN/ 8GB RAM/ 256GB SSD/ 13.3'' FHD DISPLAY                                        \n",
            "\t NPR140,000.00\n",
            "\n",
            "\n",
            "                                            Dell Inspiron 7391 i7 10th Gen / NVIDIA MX250 / 8GB RAM / 512GB SSD / 13.3'' FHD Display                                        \n",
            "\t NPR148,000.00\n",
            "\n",
            "\n",
            "                                            Dell Inspiron 7591 i7 9th Gen / GTX 1650 Graphics Card / 16GB RAM / 512GB SSD / 15.6\" FHD Display                                        \n",
            "\t NPR155,000.00\n",
            "\n",
            "\n",
            "                                            Dell G3 G3590 i7 9th Gen / NVIDIA GTX 1660Ti / 16GB RAM / 256GB SSD / 1TB HDD / 15.6\" FHD Display                                        \n",
            "\t NPR156,000.00\n",
            "\n",
            "\n",
            "                                            Dell Inspiron 7490  i7 10th Gen / NVIDIA MX250 Graphics / 16GB RAM / 512GB SSD / 14\" FHD Display                                        \n",
            "\t NPR156,000.00\n",
            "\n",
            "\n",
            "                                            Dell G5 15 SE 2020 Gaming Laptop Ryzen 7 4800H / AMD RX 5600M 6144MB / 8GB RAM / 512GB SSD / 15.6\" FHD 144Hz Display                                        \n",
            "\t NPR158,000.00\n",
            "\n",
            "\n",
            "                                            Dell Inspiron 7391 2-in-1  i7 10th Gen / 16GB RAM / 512GB SSD / 13.3'' 4K 360-degree Touch Screen Display                                        \n",
            "\t NPR160,000.00\n",
            "\n",
            "\n",
            "                                            Dell Vostro 7500 i7 10th Gen / GTX 1650ti Graphics Card / 16GB RAM / 1TB SSD / 15.6\" FHD Display / 97Whr Battery                                        \n",
            "\t NPR175,000.00\n",
            "\n",
            "\n",
            "                                            Dell XPS 13 7390 i7 10th Gen / 16GB RAM / 512GB SSD / 13.3'' FHD Display                                        \n",
            "\t NPR185,000.00\n",
            "\n",
            "\n",
            "                                            Dell XPS 15 7590 i7 9TH GEN/ 16GB RAM/ 256GB SSD/ GTX 1650/ 15.6\" FHD                                        \n",
            "\t NPR195,000.00\n",
            "\n",
            "\n",
            "                                            Dell XPS 13 7390 i7 10 GEN / 16GB RAM / 512GB SSD / 13.3'' 4K UHD Touch DISPLAY                                        \n",
            "\t NPR200,000.00\n",
            "\n",
            "\n",
            "                                            Dell XPS 13 7390 2-in-1  i7 10 Gen / 16GB RAM / 512GB SSD / 13.4'' 360-degree FHD TouchScreen Display                                        \n",
            "\t NPR200,000.00\n",
            "\n",
            "\n",
            "                                            Dell Alienware M15 R3 i7 10th Gen / RTX 2070 SUPER / 16GB RAM / 512GB SSD / 15.6\" FHD 300Hz Display                                        \n",
            "\t NPR310,000.00\n"
          ],
          "name": "stdout"
        }
      ]
    },
    {
      "cell_type": "code",
      "metadata": {
        "id": "0nxt9-2KTYgv"
      },
      "source": [
        "\n",
        "\n",
        "\n"
      ],
      "id": "0nxt9-2KTYgv",
      "execution_count": null,
      "outputs": []
    }
  ]
}