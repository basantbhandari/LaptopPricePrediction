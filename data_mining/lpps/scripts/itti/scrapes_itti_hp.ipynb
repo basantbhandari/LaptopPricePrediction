{
  "nbformat": 4,
  "nbformat_minor": 5,
  "metadata": {
    "kernelspec": {
      "display_name": "Python 3",
      "language": "python",
      "name": "python3"
    },
    "language_info": {
      "codemirror_mode": {
        "name": "ipython",
        "version": 3
      },
      "file_extension": ".py",
      "mimetype": "text/x-python",
      "name": "python",
      "nbconvert_exporter": "python",
      "pygments_lexer": "ipython3",
      "version": "3.6.13"
    },
    "colab": {
      "name": "scrapes.ipynb",
      "provenance": []
    }
  },
  "cells": [
    {
      "cell_type": "code",
      "metadata": {
        "colab": {
          "base_uri": "https://localhost:8080/"
        },
        "id": "trying-volume",
        "outputId": "b858f397-a99c-4e8e-9cba-fd74bd93af8e"
      },
      "source": [
        "pip install requests\n"
      ],
      "id": "trying-volume",
      "execution_count": 4,
      "outputs": [
        {
          "output_type": "stream",
          "text": [
            "Requirement already satisfied: requests in /usr/local/lib/python3.7/dist-packages (2.23.0)\n",
            "Requirement already satisfied: urllib3!=1.25.0,!=1.25.1,<1.26,>=1.21.1 in /usr/local/lib/python3.7/dist-packages (from requests) (1.24.3)\n",
            "Requirement already satisfied: chardet<4,>=3.0.2 in /usr/local/lib/python3.7/dist-packages (from requests) (3.0.4)\n",
            "Requirement already satisfied: certifi>=2017.4.17 in /usr/local/lib/python3.7/dist-packages (from requests) (2020.12.5)\n",
            "Requirement already satisfied: idna<3,>=2.5 in /usr/local/lib/python3.7/dist-packages (from requests) (2.10)\n"
          ],
          "name": "stdout"
        }
      ]
    },
    {
      "cell_type": "code",
      "metadata": {
        "id": "stupid-italy",
        "outputId": "eaca66ef-ebfb-4975-c012-0815f71b5b2f"
      },
      "source": [
        "pip install bs4"
      ],
      "id": "stupid-italy",
      "execution_count": null,
      "outputs": [
        {
          "output_type": "stream",
          "text": [
            "Requirement already satisfied: bs4 in /srv/conda/envs/notebook/lib/python3.6/site-packages (0.0.1)\n",
            "Requirement already satisfied: beautifulsoup4 in /srv/conda/envs/notebook/lib/python3.6/site-packages (from bs4) (4.9.3)\n",
            "Requirement already satisfied: soupsieve>1.2 in /srv/conda/envs/notebook/lib/python3.6/site-packages (from beautifulsoup4->bs4) (2.2.1)\n",
            "Note: you may need to restart the kernel to use updated packages.\n"
          ],
          "name": "stdout"
        }
      ]
    },
    {
      "cell_type": "code",
      "metadata": {
        "id": "unauthorized-tutorial"
      },
      "source": [
        "import requests\n",
        "from bs4 import BeautifulSoup"
      ],
      "id": "unauthorized-tutorial",
      "execution_count": 5,
      "outputs": []
    },
    {
      "cell_type": "code",
      "metadata": {
        "colab": {
          "base_uri": "https://localhost:8080/"
        },
        "id": "analyzed-yugoslavia",
        "outputId": "770a96b2-ce15-4d4a-d352-f128a96de31d"
      },
      "source": [
        "\n",
        "laptop_name=[]\n",
        "laptop_price=[]\n",
        "page_num=input(\"Enter number of pages:\")\n",
        "for i in range(1,int(page_num)+1):\n",
        "    url=\"https://itti.com.np/laptops-by-brands/hp-laptops-nepal?p=\"+str(i)\n",
        "    req=requests.get(url)\n",
        "    content=BeautifulSoup(req.content,'html.parser')\n",
        "    name=content.find_all('h2',{\"class\":\"product name product-item-name product-name\"})\n",
        "    price=content.find_all('span',{\"class\":\"price\"})\n",
        "    print(\"Laptops in page\" + str(i))\n",
        "   \n",
        "    print(len(name))\n",
        "    print(len(price))\n",
        "    \n",
        "    for i in name:\n",
        "        laptop_name.append(i.text)\n",
        "    for i in price:\n",
        "        laptop_price.append(i.text)"
      ],
      "id": "analyzed-yugoslavia",
      "execution_count": 25,
      "outputs": [
        {
          "output_type": "stream",
          "text": [
            "Enter number of pages:2\n",
            "Laptops in page1\n",
            "12\n",
            "12\n",
            "Laptops in page2\n",
            "8\n",
            "8\n"
          ],
          "name": "stdout"
        }
      ]
    },
    {
      "cell_type": "code",
      "metadata": {
        "colab": {
          "base_uri": "https://localhost:8080/"
        },
        "id": "atlantic-petite",
        "outputId": "74ffeb57-a764-440b-e3fa-bd8e6a48313b"
      },
      "source": [
        "for i in laptop_name:\n",
        "    print(i)"
      ],
      "id": "atlantic-petite",
      "execution_count": 26,
      "outputs": [
        {
          "output_type": "stream",
          "text": [
            "\n",
            "\n",
            "                                            HP ProBook 11 G3 EE x360 2-in-1 Celeron Dual-Core  / 4GB RAM / 128GB SSD/ 11.6\" 360 Touch Display                                        \n",
            "\n",
            "\n",
            "\n",
            "                                            HP Notebook 14-CF3065TU i3 10th Gen / 4GB RAM / 1TB HDD / 14\" HD Display                                        \n",
            "\n",
            "\n",
            "\n",
            "                                            HP Notebook 14-DK1025WM Ryzen 3 3300U / 8GB RAM / 256GB SSD / 14\" HD Display                                        \n",
            "\n",
            "\n",
            "\n",
            "                                            HP Pavilion X360 i3 10th Gen / 8GB RAM / 128GB SSD / 14\" HD Touch Screen Display                                        \n",
            "\n",
            "\n",
            "\n",
            "                                            HP Notebook 14-DQ1059 i5 10th Gen / 8GB RAM / 256GB SSD / 14\" HD Display                                        \n",
            "\n",
            "\n",
            "\n",
            "                                            HP Laptop 15-dy2045nr i5 11th Gen / 8GB RAM / 256GB SSD / 15.6\" HD                                         \n",
            "\n",
            "\n",
            "\n",
            "                                            HP Notebook 14-CE3056TX i5 10th Gen / NVIDIA MX130 / 4GB RAM / 1TB HDD / 14\" FHD Display                                        \n",
            "\n",
            "\n",
            "\n",
            "                                            HP Pavilion 15-EH0090 Ryzen 5 4500U / AMD VEGA 8 / 8GB RAM / 512GB SSD / 15.6\" FHD Display                                        \n",
            "\n",
            "\n",
            "\n",
            "                                            HP Laptop 15s-du2045TX  i7 10th Gen / 8GB RAM / 1TB HDD / NVIDIA MX330 2GB / 15.6\" HD                                         \n",
            "\n",
            "\n",
            "\n",
            "                                            HP Pavilion Power 15 2020 Ryzen 5 4600H / GTX 1650 / 8GB RAM / 256GB SSD / 15.6\" FHD display                                        \n",
            "\n",
            "\n",
            "\n",
            "                                            HP Pavilion 15-EF1013 Ryzen 7 4700U / AMD Vega 8 / 8GB RAM / 512GB SSD / 15.6\" FHD Touch Display                                        \n",
            "\n",
            "\n",
            "\n",
            "                                            HP Pavilion X360 2020 i5 11th Gen / 8GB RAM / 512GB SSD / 14\" FHD TouchScreen Display                                        \n",
            "\n",
            "\n",
            "\n",
            "                                            HP Envy 13  2021 i5 11th Gen / 8GB RAM / 256GB SSD / 13.3\" FHD Display                                        \n",
            "\n",
            "\n",
            "\n",
            "                                            HP Envy x360 13M  i7 11th Gen / 8GB RAM / 512GB SSD / 13.3\" FHD 360 TouchScreen Display                                        \n",
            "\n",
            "\n",
            "\n",
            "                                            HP Spectre 13 x360 i5 10th Gen / 8GB RAM / 256GB SSD / Stylus / 13.3\" FHD 360 TouchScreen                                        \n",
            "\n",
            "\n",
            "\n",
            "                                            HP Envy 13 2020 i7 10th Gen / 8GB RAM / 512GB SSD / 13.3\" 4K UHD TouchScreen Display                                        \n",
            "\n",
            "\n",
            "\n",
            "                                            HP Omen 15 2020 Ryzen 7 4800H / GTX 1660Ti / 8GB RAM/ 512GGB SSD / 15.6\"  FHD144Hz display                                        \n",
            "\n",
            "\n",
            "\n",
            "                                            HP Omen 15 2020 Ryzen 7 4800H / GTX 1660Ti / 16GB RAM/ 1TB SSD / 15.6\"  FHD144Hz display                                        \n",
            "\n",
            "\n",
            "\n",
            "                                            HP Spectre 13 i7 10TH GEN/ 8GB RAM/ 512GB SSD/ STYLUS/ 13.3\" FHD 360 TOUCH                                        \n",
            "\n",
            "\n",
            "\n",
            "                                            HP Spectre 15 x360 i7 10TH GEN/ 16GB RAM/ 512GB SSD/ MX 250/ 15.6\" 4K 360                                        \n",
            "\n"
          ],
          "name": "stdout"
        }
      ]
    },
    {
      "cell_type": "code",
      "metadata": {
        "colab": {
          "base_uri": "https://localhost:8080/"
        },
        "id": "demonstrated-unknown",
        "outputId": "fda53fe0-d9b4-46aa-ea24-34d8ed638a34"
      },
      "source": [
        "for i in laptop_price:\n",
        "    print(i)"
      ],
      "id": "demonstrated-unknown",
      "execution_count": 29,
      "outputs": [
        {
          "output_type": "stream",
          "text": [
            "NPR47,000.00\n",
            "NPR59,000.00\n",
            "NPR60,000.00\n",
            "NPR72,000.00\n",
            "NPR79,000.00\n",
            "NPR88,000.00\n",
            "NPR89,000.00\n",
            "NPR97,000.00\n",
            "NPR105,000.00\n",
            "NPR108,000.00\n",
            "NPR112,000.00\n",
            "NPR115,000.00\n",
            "NPR120,000.00\n",
            "NPR140,000.00\n",
            "NPR142,000.00\n",
            "NPR148,000.00\n",
            "NPR160,000.00\n",
            "NPR175,000.00\n",
            "NPR185,000.00\n",
            "NPR225,000.00\n"
          ],
          "name": "stdout"
        }
      ]
    },
    {
      "cell_type": "code",
      "metadata": {
        "colab": {
          "base_uri": "https://localhost:8080/"
        },
        "id": "celtic-generation",
        "outputId": "2d315c6f-7b0b-4c1a-8aee-e1e756a7292e"
      },
      "source": [
        "for i in range(len(laptop_name)):\n",
        "    print(laptop_name[i] + '\\t ' + laptop_price[i])\n",
        "    \n",
        "    \n",
        "    "
      ],
      "id": "celtic-generation",
      "execution_count": 40,
      "outputs": [
        {
          "output_type": "stream",
          "text": [
            "\n",
            "\n",
            "                                            HP ProBook 11 G3 EE x360 2-in-1 Celeron Dual-Core  / 4GB RAM / 128GB SSD/ 11.6\" 360 Touch Display                                        \n",
            "\t NPR47,000.00\n",
            "\n",
            "\n",
            "                                            HP Notebook 14-CF3065TU i3 10th Gen / 4GB RAM / 1TB HDD / 14\" HD Display                                        \n",
            "\t NPR59,000.00\n",
            "\n",
            "\n",
            "                                            HP Notebook 14-DK1025WM Ryzen 3 3300U / 8GB RAM / 256GB SSD / 14\" HD Display                                        \n",
            "\t NPR60,000.00\n",
            "\n",
            "\n",
            "                                            HP Pavilion X360 i3 10th Gen / 8GB RAM / 128GB SSD / 14\" HD Touch Screen Display                                        \n",
            "\t NPR72,000.00\n",
            "\n",
            "\n",
            "                                            HP Notebook 14-DQ1059 i5 10th Gen / 8GB RAM / 256GB SSD / 14\" HD Display                                        \n",
            "\t NPR79,000.00\n",
            "\n",
            "\n",
            "                                            HP Laptop 15-dy2045nr i5 11th Gen / 8GB RAM / 256GB SSD / 15.6\" HD                                         \n",
            "\t NPR88,000.00\n",
            "\n",
            "\n",
            "                                            HP Notebook 14-CE3056TX i5 10th Gen / NVIDIA MX130 / 4GB RAM / 1TB HDD / 14\" FHD Display                                        \n",
            "\t NPR89,000.00\n",
            "\n",
            "\n",
            "                                            HP Pavilion 15-EH0090 Ryzen 5 4500U / AMD VEGA 8 / 8GB RAM / 512GB SSD / 15.6\" FHD Display                                        \n",
            "\t NPR97,000.00\n",
            "\n",
            "\n",
            "                                            HP Laptop 15s-du2045TX  i7 10th Gen / 8GB RAM / 1TB HDD / NVIDIA MX330 2GB / 15.6\" HD                                         \n",
            "\t NPR105,000.00\n",
            "\n",
            "\n",
            "                                            HP Pavilion Power 15 2020 Ryzen 5 4600H / GTX 1650 / 8GB RAM / 256GB SSD / 15.6\" FHD display                                        \n",
            "\t NPR108,000.00\n",
            "\n",
            "\n",
            "                                            HP Pavilion 15-EF1013 Ryzen 7 4700U / AMD Vega 8 / 8GB RAM / 512GB SSD / 15.6\" FHD Touch Display                                        \n",
            "\t NPR112,000.00\n",
            "\n",
            "\n",
            "                                            HP Pavilion X360 2020 i5 11th Gen / 8GB RAM / 512GB SSD / 14\" FHD TouchScreen Display                                        \n",
            "\t NPR115,000.00\n",
            "\n",
            "\n",
            "                                            HP Envy 13  2021 i5 11th Gen / 8GB RAM / 256GB SSD / 13.3\" FHD Display                                        \n",
            "\t NPR120,000.00\n",
            "\n",
            "\n",
            "                                            HP Envy x360 13M  i7 11th Gen / 8GB RAM / 512GB SSD / 13.3\" FHD 360 TouchScreen Display                                        \n",
            "\t NPR140,000.00\n",
            "\n",
            "\n",
            "                                            HP Spectre 13 x360 i5 10th Gen / 8GB RAM / 256GB SSD / Stylus / 13.3\" FHD 360 TouchScreen                                        \n",
            "\t NPR142,000.00\n",
            "\n",
            "\n",
            "                                            HP Envy 13 2020 i7 10th Gen / 8GB RAM / 512GB SSD / 13.3\" 4K UHD TouchScreen Display                                        \n",
            "\t NPR148,000.00\n",
            "\n",
            "\n",
            "                                            HP Omen 15 2020 Ryzen 7 4800H / GTX 1660Ti / 8GB RAM/ 512GGB SSD / 15.6\"  FHD144Hz display                                        \n",
            "\t NPR160,000.00\n",
            "\n",
            "\n",
            "                                            HP Omen 15 2020 Ryzen 7 4800H / GTX 1660Ti / 16GB RAM/ 1TB SSD / 15.6\"  FHD144Hz display                                        \n",
            "\t NPR175,000.00\n",
            "\n",
            "\n",
            "                                            HP Spectre 13 i7 10TH GEN/ 8GB RAM/ 512GB SSD/ STYLUS/ 13.3\" FHD 360 TOUCH                                        \n",
            "\t NPR185,000.00\n",
            "\n",
            "\n",
            "                                            HP Spectre 15 x360 i7 10TH GEN/ 16GB RAM/ 512GB SSD/ MX 250/ 15.6\" 4K 360                                        \n",
            "\t NPR225,000.00\n"
          ],
          "name": "stdout"
        }
      ]
    }
  ]
}